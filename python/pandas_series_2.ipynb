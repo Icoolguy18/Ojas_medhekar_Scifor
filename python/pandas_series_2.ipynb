{
  "nbformat": 4,
  "nbformat_minor": 0,
  "metadata": {
    "colab": {
      "provenance": []
    },
    "kernelspec": {
      "name": "python3",
      "display_name": "Python 3"
    },
    "language_info": {
      "name": "python"
    }
  },
  "cells": [
    {
      "cell_type": "code",
      "execution_count": null,
      "metadata": {
        "id": "jARZ3akVl7nt"
      },
      "outputs": [],
      "source": [
        "import pandas as pd\n",
        "import numpy as np"
      ]
    },
    {
      "cell_type": "code",
      "source": [
        "#Q1\n",
        "inde = \"HR\", \"SIMULATION\", \"MANAGEMENT\", \"ACCOUNTS\", \"TESTING\"\n",
        "data = 12, 15,20, 9, 20\n",
        "ser_1 = pd.Series(data = data, index = inde)\n",
        "ser_1"
      ],
      "metadata": {
        "colab": {
          "base_uri": "https://localhost:8080/"
        },
        "id": "Rm6L5AC8mCHP",
        "outputId": "832e702f-4d03-4635-c8fe-c8e26420fde6"
      },
      "execution_count": null,
      "outputs": [
        {
          "output_type": "execute_result",
          "data": {
            "text/plain": [
              "HR            12\n",
              "SIMULATION    15\n",
              "MANAGEMENT    20\n",
              "ACCOUNTS       9\n",
              "TESTING       20\n",
              "dtype: int64"
            ]
          },
          "metadata": {},
          "execution_count": 6
        }
      ]
    },
    {
      "cell_type": "code",
      "source": [
        "#Q2\n",
        "stream = \"Science\", \"Commerce\", \"Arts\"\n",
        "class_12 = 32, 30, 24\n",
        "class_11 = 40, 34, 20\n",
        "A1 = pd.Series(data = class_12, index = stream)\n",
        "A2 = pd.Series(data = class_11, index = stream)\n",
        "total = A1 + A2\n",
        "total"
      ],
      "metadata": {
        "colab": {
          "base_uri": "https://localhost:8080/"
        },
        "id": "erulm_6emITK",
        "outputId": "3eb56665-3de5-430d-83dd-ffa54409f40f"
      },
      "execution_count": null,
      "outputs": [
        {
          "output_type": "execute_result",
          "data": {
            "text/plain": [
              "Science     72\n",
              "Commerce    64\n",
              "Arts        44\n",
              "dtype: int64"
            ]
          },
          "metadata": {},
          "execution_count": 8
        }
      ]
    },
    {
      "cell_type": "code",
      "source": [
        "#Q3\n",
        "cities = \"Banglore\", \"Mumbai\", \"Pune\", \"Delhi\"\n",
        "pop = \t14008000, 17673000 , 4307000, 33807000\n",
        "inc_avg = 2101388, 2117870, 1895370, 2043703\n",
        "ser_1 = pd.Series(data = pop, index = cities)\n",
        "ser_2 = pd.Series(data = inc_avg, index = cities)\n",
        "total_income = ser_1 * ser_2\n",
        "total_income\n",
        "#using the average income of the cities and then multiplying it with the population, we have found the values of total income of the metro cities, bit contray to the question asked"
      ],
      "metadata": {
        "colab": {
          "base_uri": "https://localhost:8080/"
        },
        "id": "RLg2GBC42jT7",
        "outputId": "a06effcd-2f3a-4a66-87ae-82da09ee1ce8"
      },
      "execution_count": null,
      "outputs": [
        {
          "output_type": "execute_result",
          "data": {
            "text/plain": [
              "Banglore    29436243104000\n",
              "Mumbai      37429116510000\n",
              "Pune         8163358590000\n",
              "Delhi       69091467321000\n",
              "dtype: int64"
            ]
          },
          "metadata": {},
          "execution_count": 12
        }
      ]
    },
    {
      "cell_type": "code",
      "source": [
        "#Q4\n",
        "char = 10000000, 2000, 4500, 8500\n",
        "index = 'a','b','c','d'\n",
        "s2 = pd.Series(data = char, index = index)\n",
        "s2_ = s2[s2 > 8000].index\n",
        "print(\"the sections with contribution of more than 8000 \", s2_)"
      ],
      "metadata": {
        "colab": {
          "base_uri": "https://localhost:8080/"
        },
        "id": "A9FFiusm2puC",
        "outputId": "02f6da63-08cb-4432-dfb2-8e718c822a3f"
      },
      "execution_count": null,
      "outputs": [
        {
          "output_type": "stream",
          "name": "stdout",
          "text": [
            "the sections with contribution of more than 8000  Index(['a', 'd'], dtype='object')\n"
          ]
        }
      ]
    },
    {
      "cell_type": "code",
      "source": [],
      "metadata": {
        "id": "GObfs3GU5SaX"
      },
      "execution_count": null,
      "outputs": []
    }
  ]
}