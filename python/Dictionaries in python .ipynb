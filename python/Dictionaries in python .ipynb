{
 "cells": [
  {
   "cell_type": "code",
   "execution_count": 2,
   "id": "ddd8ab5e-f751-41d2-8bcf-1d626caf5b6f",
   "metadata": {
    "tags": []
   },
   "outputs": [],
   "source": [
    "cars = {\n",
    "  \"brand\": [\"Ford\", \"prosche\", \"mazda\", \"maserati\"],\n",
    "  \"model\": [\"Mustang\", \"911\", \"CX-5\", \"MC20\"]\n",
    "}"
   ]
  },
  {
   "cell_type": "code",
   "execution_count": 3,
   "id": "8c85dea7-8871-4c29-8001-27d534d2fcc8",
   "metadata": {
    "tags": []
   },
   "outputs": [
    {
     "data": {
      "text/plain": [
       "{'brand': ['Ford', 'prosche', 'mazda', 'maserati'],\n",
       " 'model': ['Mustang', '911', 'CX-5', 'MC20']}"
      ]
     },
     "execution_count": 3,
     "metadata": {},
     "output_type": "execute_result"
    }
   ],
   "source": [
    "cars"
   ]
  },
  {
   "cell_type": "code",
   "execution_count": 4,
   "id": "bf29f94d-cd0f-4e2c-bad0-a0a979e9e4fa",
   "metadata": {
    "tags": []
   },
   "outputs": [
    {
     "name": "stdout",
     "output_type": "stream",
     "text": [
      "<class 'dict'>\n"
     ]
    }
   ],
   "source": [
    "print(type(cars))"
   ]
  },
  {
   "cell_type": "code",
   "execution_count": 5,
   "id": "dd172b3b-20c0-4234-9ca9-22d5af5f0d7b",
   "metadata": {
    "tags": []
   },
   "outputs": [
    {
     "name": "stdout",
     "output_type": "stream",
     "text": [
      "['Mustang', '911', 'CX-5', 'MC20']\n"
     ]
    }
   ],
   "source": [
    "print(cars[\"model\"])"
   ]
  },
  {
   "cell_type": "code",
   "execution_count": 8,
   "id": "51e3bed0-17f7-4e7d-afd4-6fb42396628a",
   "metadata": {
    "tags": []
   },
   "outputs": [
    {
     "data": {
      "text/plain": [
       "('', 'the', 'se the this')"
      ]
     },
     "execution_count": 8,
     "metadata": {},
     "output_type": "execute_result"
    }
   ],
   "source": [
    "A = \"these the this\"\n",
    "A.partition('the')"
   ]
  },
  {
   "cell_type": "code",
   "execution_count": 9,
   "id": "625031d8-3561-41be-894a-51b4d2a9a27f",
   "metadata": {
    "tags": []
   },
   "outputs": [
    {
     "data": {
      "text/plain": [
       "['these', 'the', 'this']"
      ]
     },
     "execution_count": 9,
     "metadata": {},
     "output_type": "execute_result"
    }
   ],
   "source": [
    "A.split(\" \")"
   ]
  },
  {
   "cell_type": "code",
   "execution_count": 10,
   "id": "0f1321cb-c54f-4f2e-af5b-c72863dded81",
   "metadata": {
    "tags": []
   },
   "outputs": [],
   "source": [
    "months = {\n",
    "    1: 'January',\n",
    "    2: 'February',\n",
    "    3: 'March',\n",
    "    4: 'April',\n",
    "    5: 'May',\n",
    "    6: 'June',\n",
    "    7: 'July',\n",
    "    8: 'August',\n",
    "    9: 'September',\n",
    "    10: 'October',\n",
    "    11: 'November',\n",
    "    12: 'December'\n",
    "}\n",
    "\n",
    "months[6] = 'New Month'"
   ]
  },
  {
   "cell_type": "code",
   "execution_count": 11,
   "id": "ce2aea46-70be-4667-8002-39ace43c87e2",
   "metadata": {
    "tags": []
   },
   "outputs": [],
   "source": [
    "months[13] = 'Something_New'"
   ]
  },
  {
   "cell_type": "code",
   "execution_count": 12,
   "id": "44e40c99-d4e4-4aa3-b916-a3a5853c126b",
   "metadata": {
    "tags": []
   },
   "outputs": [
    {
     "data": {
      "text/plain": [
       "{1: 'January',\n",
       " 2: 'February',\n",
       " 3: 'March',\n",
       " 4: 'April',\n",
       " 5: 'May',\n",
       " 6: 'New Month',\n",
       " 7: 'July',\n",
       " 8: 'August',\n",
       " 9: 'September',\n",
       " 10: 'October',\n",
       " 11: 'November',\n",
       " 12: 'December',\n",
       " 13: 'Something_New'}"
      ]
     },
     "execution_count": 12,
     "metadata": {},
     "output_type": "execute_result"
    }
   ],
   "source": [
    "months"
   ]
  },
  {
   "cell_type": "code",
   "execution_count": 13,
   "id": "6c3c92be-569f-4bf2-b16f-29a96a44dccd",
   "metadata": {
    "tags": []
   },
   "outputs": [],
   "source": [
    "a = '20' * 3"
   ]
  },
  {
   "cell_type": "code",
   "execution_count": 14,
   "id": "822c8793-9ab8-4c0b-8074-d795b85c9ea3",
   "metadata": {
    "tags": []
   },
   "outputs": [],
   "source": [
    "def create_list():\n",
    "    return []\n",
    "\n",
    "def insert_into_list(lst, index, value):\n",
    "    lst.insert(index, value)\n",
    "\n",
    "def modify_list(lst, index, value):\n",
    "    if 0 <= index < len(lst):\n",
    "        lst[index] = value\n",
    "\n",
    "def pop_from_list(lst):\n",
    "    if lst:\n",
    "        return lst.pop()\n",
    "\n",
    "def concatenate_lists(lst1, lst2):\n",
    "    return lst1 + lst2\n",
    "\n",
    "def repeat_list(lst, n):\n",
    "    return lst * n\n",
    "\n",
    "def take_user_input_for_list():\n",
    "    lst = []\n",
    "    for i in range(10):\n",
    "        value = int(input(f\"Enter the value at index {i}: \"))\n",
    "        lst.append(value)\n",
    "    return lst\n"
   ]
  },
  {
   "cell_type": "code",
   "execution_count": null,
   "id": "7faa52ca-1023-49e5-adc6-2162d709f236",
   "metadata": {
    "tags": []
   },
   "outputs": [],
   "source": [
    "\n",
    "my_list = take_user_input_for_list()\n",
    "\n",
    "print(\"Original list:\", my_list)\n",
    "\n",
    "index = int(input(\"Enter the index to modify: \"))\n",
    "value = int(input(\"Enter the new value: \"))\n",
    "modify_list(my_list, index, value)\n",
    "\n",
    "print(\"Modified list:\", my_list)\n",
    "\n",
    "last_element = pop_from_list(my_list)\n",
    "\n",
    "print(\"List after popping the last element:\", my_list)\n",
    "print(\"Popped element:\", last_element)\n",
    "\n",
    "other_list = take_user_input_for_list()\n",
    "concatenated_list = concatenate_lists(my_list, other_list)\n",
    "print(\"Concatenated list:\", concatenated_list)\n",
    "\n",
    "repeat_count = int(input(\"Enter the number of times to repeat the list: \"))\n",
    "repeated_list = repeat_list(my_list, repeat_count)\n",
    "print(\"Repeated list:\", repeated_list)\n"
   ]
  },
  {
   "cell_type": "code",
   "execution_count": null,
   "id": "2337db23-e308-40c4-ac3c-f4316b01fc9a",
   "metadata": {},
   "outputs": [],
   "source": []
  }
 ],
 "metadata": {
  "kernelspec": {
   "display_name": "Python 3 (ipykernel)",
   "language": "python",
   "name": "python3"
  },
  "language_info": {
   "codemirror_mode": {
    "name": "ipython",
    "version": 3
   },
   "file_extension": ".py",
   "mimetype": "text/x-python",
   "name": "python",
   "nbconvert_exporter": "python",
   "pygments_lexer": "ipython3",
   "version": "3.9.19"
  }
 },
 "nbformat": 4,
 "nbformat_minor": 5
}
