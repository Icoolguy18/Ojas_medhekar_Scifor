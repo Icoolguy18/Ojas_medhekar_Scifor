{
 "cells": [
  {
   "cell_type": "code",
   "execution_count": 2,
   "id": "ccddc1e9-af5a-46c1-aae2-168c9b5e3644",
   "metadata": {
    "tags": []
   },
   "outputs": [
    {
     "name": "stdout",
     "output_type": "stream",
     "text": [
      "Hello, Ojas\n",
      "Age: 21\n",
      "Height (approx): 3.14159\n",
      "Sum of age and 5: 26\n",
      "Age difference (current - 10): 11\n",
      "Age multiplied by 2: 42\n"
     ]
    }
   ],
   "source": [
    "#Assigning of Variables with data type int(), string(), and float()\n",
    "name = \"Ojas\"  \n",
    "age = 21 \n",
    "Height = 1.71\n",
    "\n",
    "sum_age = age + 5\n",
    "age_difference = age - 10\n",
    "age_product = age * 2\n",
    "\n",
    "print(\"Hello,\", name)\n",
    "print(\"Age:\", age)\n",
    "print(\"Height (approx):\", pi)\n",
    "print(\"Sum of age and 5:\", sum_age)\n",
    "print(\"Age difference (current - 10):\", age_difference)\n",
    "print(\"Age multiplied by 2:\", age_product)"
   ]
  },
  {
   "cell_type": "code",
   "execution_count": 3,
   "id": "fd7a81c4-bf9c-4b29-952a-67e92f7eb26c",
   "metadata": {
    "tags": []
   },
   "outputs": [
    {
     "name": "stdin",
     "output_type": "stream",
     "text": [
      "Enter your age:  21\n"
     ]
    },
    {
     "name": "stdout",
     "output_type": "stream",
     "text": [
      "You are eligible to vote.\n"
     ]
    }
   ],
   "source": [
    "user_age = int(input(\"Enter your age: \"))\n",
    "\n",
    "if user_age >= 18:\n",
    "  print(\"You are eligible to vote.\")\n",
    "else:\n",
    "  print(\"Sorry, you are too young to vote.\")"
   ]
  },
  {
   "cell_type": "code",
   "execution_count": 7,
   "id": "2e252706-fd6b-466e-a85a-55d2194da708",
   "metadata": {
    "tags": []
   },
   "outputs": [
    {
     "name": "stdout",
     "output_type": "stream",
     "text": [
      "<class 'int'> 21\n",
      "<class 'float'> 21.0\n"
     ]
    }
   ],
   "source": [
    "#also, we can maiputlate the variables as per our requirements into convertable types \n",
    "print(type(user_age), user_age)\n",
    "user_age_flt = float(user_age)\n",
    "print(type(user_age_flt), user_age_flt)"
   ]
  },
  {
   "cell_type": "code",
   "execution_count": 9,
   "id": "f6491edb-58bd-4618-af13-c18561f227cc",
   "metadata": {
    "tags": []
   },
   "outputs": [
    {
     "name": "stdout",
     "output_type": "stream",
     "text": [
      "<class 'str'> 21\n"
     ]
    }
   ],
   "source": [
    "#in string format \n",
    "user_age_str = str(user_age)\n",
    "print(type(user_age_str),user_age_str)"
   ]
  },
  {
   "cell_type": "code",
   "execution_count": null,
   "id": "5b9df983-7a3a-48a1-ae92-c2fce72830c6",
   "metadata": {},
   "outputs": [],
   "source": []
  }
 ],
 "metadata": {
  "kernelspec": {
   "display_name": "Python 3 (ipykernel)",
   "language": "python",
   "name": "python3"
  },
  "language_info": {
   "codemirror_mode": {
    "name": "ipython",
    "version": 3
   },
   "file_extension": ".py",
   "mimetype": "text/x-python",
   "name": "python",
   "nbconvert_exporter": "python",
   "pygments_lexer": "ipython3",
   "version": "3.9.19"
  }
 },
 "nbformat": 4,
 "nbformat_minor": 5
}
