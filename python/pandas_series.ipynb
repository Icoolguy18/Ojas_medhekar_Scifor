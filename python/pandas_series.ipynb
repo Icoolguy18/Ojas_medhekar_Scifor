{
  "nbformat": 4,
  "nbformat_minor": 0,
  "metadata": {
    "colab": {
      "provenance": []
    },
    "kernelspec": {
      "name": "python3",
      "display_name": "Python 3"
    },
    "language_info": {
      "name": "python"
    }
  },
  "cells": [
    {
      "cell_type": "code",
      "execution_count": null,
      "metadata": {
        "id": "qUFBA0t5bCr2"
      },
      "outputs": [],
      "source": [
        "import pandas as pd"
      ]
    },
    {
      "cell_type": "code",
      "source": [
        "#Q1\n",
        "S_1 = [1,2,3,4,5,6,7,8,9]\n",
        "S1 = pd.Series(S_1)\n",
        "S1"
      ],
      "metadata": {
        "colab": {
          "base_uri": "https://localhost:8080/"
        },
        "id": "mbZPnoiSbHJR",
        "outputId": "f424ace4-5078-46ab-84c6-343b645186c5"
      },
      "execution_count": null,
      "outputs": [
        {
          "output_type": "execute_result",
          "data": {
            "text/plain": [
              "0    1\n",
              "1    2\n",
              "2    3\n",
              "3    4\n",
              "4    5\n",
              "5    6\n",
              "6    7\n",
              "7    8\n",
              "8    9\n",
              "dtype: int64"
            ]
          },
          "metadata": {},
          "execution_count": 5
        }
      ]
    },
    {
      "cell_type": "code",
      "source": [
        "#Q2\n",
        "quarters = ['Q1'] * 31 + ['Q2'] * 30 + ['Q3'] * 31 + ['Q4'] * 30\n",
        "Budget_val = [30000] * (31 + 30 + 31 + 30)\n",
        "bud_ser  = pd.Series(Budget_val, index = quarters)\n",
        "bud_ser"
      ],
      "metadata": {
        "colab": {
          "base_uri": "https://localhost:8080/"
        },
        "id": "z79OlGnobQnW",
        "outputId": "52309d96-482f-4d93-bf11-5fb70f39a027"
      },
      "execution_count": null,
      "outputs": [
        {
          "output_type": "execute_result",
          "data": {
            "text/plain": [
              "Q1    30000\n",
              "Q1    30000\n",
              "Q1    30000\n",
              "Q1    30000\n",
              "Q1    30000\n",
              "      ...  \n",
              "Q4    30000\n",
              "Q4    30000\n",
              "Q4    30000\n",
              "Q4    30000\n",
              "Q4    30000\n",
              "Length: 122, dtype: int64"
            ]
          },
          "metadata": {},
          "execution_count": 8
        }
      ]
    },
    {
      "cell_type": "code",
      "source": [
        "#Q3\n",
        "ar = []\n",
        "for i in range (0,70,7):\n",
        "  ar.append(i)\n",
        "ar_ser = pd.Series(ar)\n",
        "ar_ser"
      ],
      "metadata": {
        "colab": {
          "base_uri": "https://localhost:8080/"
        },
        "id": "GFuNhe8Ab-q8",
        "outputId": "fe258441-b5c2-45dd-81c4-e3aef14e9164"
      },
      "execution_count": null,
      "outputs": [
        {
          "output_type": "execute_result",
          "data": {
            "text/plain": [
              "0     0\n",
              "1     7\n",
              "2    14\n",
              "3    21\n",
              "4    28\n",
              "5    35\n",
              "6    42\n",
              "7    49\n",
              "8    56\n",
              "9    63\n",
              "dtype: int64"
            ]
          },
          "metadata": {},
          "execution_count": 11
        }
      ]
    },
    {
      "cell_type": "code",
      "source": [
        "#Q4\n",
        "hindi_marks_dict = {'Section A': 350, 'Section B': 380, 'Section C': 400, 'Section D': 370}\n",
        "mk_hindi = pd.Series(hindi_marks_dict)\n",
        "mk_hindi"
      ],
      "metadata": {
        "colab": {
          "base_uri": "https://localhost:8080/"
        },
        "id": "ZZ9c98bVc6QV",
        "outputId": "0eca5f6e-cbd1-4b3a-fe5f-d9575b8671b9"
      },
      "execution_count": null,
      "outputs": [
        {
          "output_type": "execute_result",
          "data": {
            "text/plain": [
              "Section A    350\n",
              "Section B    380\n",
              "Section C    400\n",
              "Section D    370\n",
              "dtype: int64"
            ]
          },
          "metadata": {},
          "execution_count": 12
        }
      ]
    },
    {
      "cell_type": "code",
      "source": [
        "#Q5\n",
        "qes_ar = []\n",
        "for i in range (2002, 2024, 2):\n",
        "  qes_ar.append(i)\n",
        "\n",
        "ques = []\n",
        "for i in range (len(qes_ar)):\n",
        "  ques.append(200)\n",
        "\n",
        "x = pd.Series(ques, index = qes_ar)\n",
        "x"
      ],
      "metadata": {
        "colab": {
          "base_uri": "https://localhost:8080/"
        },
        "id": "WlPOQYrfdtEL",
        "outputId": "f115fec3-c1a0-4d34-f473-4973703437d9"
      },
      "execution_count": null,
      "outputs": [
        {
          "output_type": "execute_result",
          "data": {
            "text/plain": [
              "2002    200\n",
              "2004    200\n",
              "2006    200\n",
              "2008    200\n",
              "2010    200\n",
              "2012    200\n",
              "2014    200\n",
              "2016    200\n",
              "2018    200\n",
              "2020    200\n",
              "2022    200\n",
              "dtype: int64"
            ]
          },
          "metadata": {},
          "execution_count": 20
        }
      ]
    },
    {
      "cell_type": "code",
      "source": [],
      "metadata": {
        "id": "yB_50vVgeQ96"
      },
      "execution_count": null,
      "outputs": []
    }
  ]
}